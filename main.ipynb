{
 "cells": [
  {
   "cell_type": "markdown",
   "metadata": {},
   "source": [
    "# Starting. Setting up the directory"
   ]
  },
  {
   "cell_type": "code",
   "execution_count": 3,
   "metadata": {},
   "outputs": [],
   "source": [
    "import os\n",
    "\n",
    "\n",
    "DATA_DIR = os.path.join(os.getcwd(), 'data')\n",
    "MODELS_DIR = os.path.join(DATA_DIR,'models')\n",
    "for dir in [DATA_DIR, MODELS_DIR]:\n",
    "    if not os.path.exists(dir):\n",
    "        os.mkdir(dir)"
   ]
  },
  {
   "cell_type": "markdown",
   "metadata": {},
   "source": [
    "# Setting up all of the variables"
   ]
  },
  {
   "cell_type": "markdown",
   "metadata": {},
   "source": [
    "Note: This is just an addition. Each cell has already contained its own used variables"
   ]
  },
  {
   "cell_type": "code",
   "execution_count": 4,
   "metadata": {},
   "outputs": [],
   "source": [
    "DATA_DIR = os.path.join(os.getcwd(), 'data')\n",
    "MODELS_DIR = os.path.join(DATA_DIR,'models')\n",
    "MODEL_DATE = \"20200711\"\n",
    "MODEL_NAME = \"ssd_mobilenet_v2_320x320_coco17_tpu-8\"\n",
    "MODEL_TAR_FILENAME = MODEL_NAME + '.tar.gz'\n",
    "MODELS_DOWNLOAD_LINK = \"http://download.tensorflow.org/models/object_detection/tf2/\"+MODEL_DATE+'/'+MODEL_TAR_FILENAME\n",
    "IMAGE_PATH = os.path.join(os.getcwd(),'data','workspace','images','collectedimages')\n",
    "LABEL_IMAGE_PATH = os.path.join('data','workspace','labelimg')\n",
    "LABEL_MAP_NAME = 'label_map.pbtxt'\n",
    "LABEL_MAP_PATH = os.path.join('data','workspace','label_map',LABEL_MAP_NAME)\n",
    "OBJECT_DETECTION_PATH = os.path.join('data','Tensorflow','models')\n",
    "PATH_TO_PROTOC_FOLDER = os.path.join('data','Tensorflow','protoc')\n",
    "PROTOC_ZIP_NAME = 'protoc-21.1-win64' + '.zip'\n",
    "PATH_TO_PROTOC_ZIP = os.path.join(PATH_TO_PROTOC_FOLDER,PROTOC_ZIP_NAME)\n",
    "PATH_TO_COCO = os.path.join('data','Tensorflow','coco')\n",
    "COCO_DOWNLOAD_LINK = 'https://github.com/philferriere/cocoapi'\n",
    "TF_RECORDS_PATH = os.path.join('data','workspace','TFRecords') \n",
    "TF_RECORDS_SCRIPT = os.path.join(TF_RECORDS_PATH,'generate_tfrecord.py')\n",
    "PATH_TO_LABEL_MAP = os.path.join('data','workspace','label_map','label_map.pbtxt')\n",
    "PATH_TO_ANNOTATION = os.path.join('data','workspace','annotations')\n",
    "CHECKPOINT_PATH = os.path.join('data','workspace','checkpoint')\n",
    "PATH_TO_CONFIG = os.path.join('data','models',MODEL_NAME,'pipeline.config')\n",
    "TRAINING_SCRIPT = os.path.join('data','Tensorflow','models','research','object_detection','model_main_tf2.py')\n",
    "MODEL_DIRECTORY = os.path.join('data','workspace','checkpoint')"
   ]
  },
  {
   "cell_type": "markdown",
   "metadata": {},
   "source": [
    "# Download the Object_detection model and Append to respective folders"
   ]
  },
  {
   "cell_type": "code",
   "execution_count": 5,
   "metadata": {},
   "outputs": [],
   "source": [
    "import tarfile\n",
    "import urllib.request\n",
    "\n",
    "MODEL_DATE = \"20200711\"\n",
    "MODEL_NAME = \"ssd_mobilenet_v2_320x320_coco17_tpu-8\"\n",
    "MODEL_TAR_FILENAME = MODEL_NAME + '.tar.gz'\n",
    "\n",
    "MODELS_DOWNLOAD_LINK = \"http://download.tensorflow.org/models/object_detection/tf2/\"+MODEL_DATE+'/'+MODEL_TAR_FILENAME\n",
    "paths = {'PATH_TO_MODEL_TAR' : os.path.join(MODELS_DIR, MODEL_TAR_FILENAME),\n",
    "         'PATH_TO_CHECKPOINT' : os.path.join(MODELS_DIR, os.path.join(MODEL_NAME, 'checkpoint/')),\n",
    "         'PATH_TO_CONFIGURE' : os.path.join(MODELS_DIR, os.path.join(MODEL_NAME, 'pipeline.config'))\n",
    "         }\n",
    "for path in paths.values():\n",
    "    if not os.path.exists(path):\n",
    "        print('Dowloading the model...',end='')\n",
    "        urllib.request.urlretrieve(MODELS_DOWNLOAD_LINK,paths['PATH_TO_MODEL_TAR'])\n",
    "        tar_file = tarfile.open(paths['PATH_TO_MODEL_TAR'])\n",
    "        tar_file.extractall(MODELS_DIR)\n",
    "        tar_file.close()\n",
    "        os.remove(paths['PATH_TO_MODEL_TAR'])\n",
    "\n"
   ]
  },
  {
   "cell_type": "markdown",
   "metadata": {},
   "source": [
    "# Setting up the labels and # of images"
   ]
  },
  {
   "cell_type": "code",
   "execution_count": 6,
   "metadata": {},
   "outputs": [],
   "source": [
    "import cv2\n",
    "import time\n",
    "\n",
    "labels = ['BottleOfWater','Phone','Hat','Pen', 'Luong']\n",
    "num_img = 6"
   ]
  },
  {
   "cell_type": "code",
   "execution_count": 7,
   "metadata": {},
   "outputs": [
    {
     "name": "stdout",
     "output_type": "stream",
     "text": [
      "c:\\Users\\DELL\\OneDrive - RMIT University\\Documents\\Python Code\\Tensorflow Object Detection\\ObjectDetection\\data\\workspace\\images\\collectedimages\\BottleOfWater\n",
      "Making the folders for each label...\n",
      "c:\\Users\\DELL\\OneDrive - RMIT University\\Documents\\Python Code\\Tensorflow Object Detection\\ObjectDetection\\data\\workspace\\images\\collectedimages\\Phone\n",
      "c:\\Users\\DELL\\OneDrive - RMIT University\\Documents\\Python Code\\Tensorflow Object Detection\\ObjectDetection\\data\\workspace\\images\\collectedimages\\Hat\n",
      "Making the folders for each label...\n",
      "c:\\Users\\DELL\\OneDrive - RMIT University\\Documents\\Python Code\\Tensorflow Object Detection\\ObjectDetection\\data\\workspace\\images\\collectedimages\\Pen\n",
      "Making the folders for each label...\n",
      "c:\\Users\\DELL\\OneDrive - RMIT University\\Documents\\Python Code\\Tensorflow Object Detection\\ObjectDetection\\data\\workspace\\images\\collectedimages\\Luong\n"
     ]
    }
   ],
   "source": [
    "IMAGE_PATH = os.path.join(os.getcwd(),'data','workspace','images','collectedimages')\n",
    "# print(IMAGE_PATH)\n",
    "if not os.path.exists(IMAGE_PATH):\n",
    "    print('Making the Image Path...')\n",
    "    os.mkdir(IMAGE_PATH)\n",
    "for label in labels:\n",
    "    path = os.path.join(IMAGE_PATH,label)\n",
    "    print(path)\n",
    "    if not os.path.exists(path):\n",
    "        print('Making the folders for each label...')\n",
    "        os.mkdir(path)"
   ]
  },
  {
   "cell_type": "markdown",
   "metadata": {},
   "source": [
    "# Setting up the labels and # of images 2"
   ]
  },
  {
   "cell_type": "code",
   "execution_count": 8,
   "metadata": {},
   "outputs": [],
   "source": [
    "labels = ['Luong','Phone','Pillow']\n",
    "num_img = 10"
   ]
  },
  {
   "cell_type": "code",
   "execution_count": 9,
   "metadata": {},
   "outputs": [],
   "source": [
    "IMAGE_PATH = os.path.join(os.getcwd(),'data','workspace','images','collectedimages')\n",
    "# print(IMAGE_PATH)\n",
    "if not os.path.exists(IMAGE_PATH):\n",
    "    print('Making the Image Path...')\n",
    "    os.mkdir(IMAGE_PATH)\n",
    "for label in labels:\n",
    "    path = os.path.join(IMAGE_PATH,label)\n",
    "    # print(path)\n",
    "    if not os.path.exists(path):\n",
    "        print('Making the folders for each label...')\n",
    "        os.mkdir(path)"
   ]
  },
  {
   "cell_type": "markdown",
   "metadata": {},
   "source": [
    "# Collecting the Images"
   ]
  },
  {
   "cell_type": "code",
   "execution_count": 40,
   "metadata": {},
   "outputs": [
    {
     "name": "stdout",
     "output_type": "stream",
     "text": [
      "Collecting images for Luong\n",
      "Collecting image 0\n",
      "Collecting image 1\n",
      "Collecting image 2\n",
      "Collecting image 3\n",
      "Collecting image 4\n",
      "Collecting image 5\n",
      "Collecting image 6\n",
      "Collecting image 7\n",
      "Collecting image 8\n",
      "Collecting image 9\n",
      "Collecting images for Phone\n",
      "Collecting image 0\n",
      "Collecting image 1\n",
      "Collecting image 2\n",
      "Collecting image 3\n",
      "Collecting image 4\n",
      "Collecting image 5\n",
      "Collecting image 6\n",
      "Collecting image 7\n",
      "Collecting image 8\n",
      "Collecting image 9\n",
      "Collecting images for Pillow\n",
      "Collecting image 0\n",
      "Collecting image 1\n",
      "Collecting image 2\n",
      "Collecting image 3\n",
      "Collecting image 4\n",
      "Collecting image 5\n",
      "Collecting image 6\n",
      "Collecting image 7\n",
      "Collecting image 8\n",
      "Collecting image 9\n"
     ]
    }
   ],
   "source": [
    "for label in labels:\n",
    "    cap = cv2.VideoCapture(0)\n",
    "    print('Collecting images for {}'.format(label))\n",
    "    time.sleep(5)\n",
    "    for image_num in range(num_img):\n",
    "        print('Collecting image {}'.format(image_num))\n",
    "        ret, frame = cap.read()\n",
    "        imgname = os.path.join(IMAGE_PATH, label, label + '{}.jpg'.format(image_num))\n",
    "        cv2.imwrite(imgname,frame)\n",
    "        cv2.imshow('Frame',frame)\n",
    "        time.sleep(3)\n",
    "        \n",
    "        if cv2.waitKey(1) & 0xFF == ord('q'):\n",
    "            break\n",
    "\n",
    "cap.release()\n",
    "cv2.destroyAllWindows()"
   ]
  },
  {
   "cell_type": "markdown",
   "metadata": {},
   "source": [
    "# Getting the library to label image"
   ]
  },
  {
   "cell_type": "code",
   "execution_count": 12,
   "metadata": {},
   "outputs": [],
   "source": [
    "LABEL_IMAGE_PATH = os.path.join('data','workspace','labelimg')\n",
    "if not os.path.exists(LABEL_IMAGE_PATH):\n",
    "    os.mkdir(LABEL_IMAGE_PATH)\n",
    "    !git clone https://github.com/tzutalin/labelImg {LABEL_IMAGE_PATH}\n",
    "    "
   ]
  },
  {
   "cell_type": "markdown",
   "metadata": {},
   "source": [
    "# Open the image labelling application (Imported from the above library)"
   ]
  },
  {
   "cell_type": "code",
   "execution_count": 41,
   "metadata": {},
   "outputs": [
    {
     "name": "stdout",
     "output_type": "stream",
     "text": [
      "Image:C:\\Users\\DELL\\OneDrive - RMIT University\\Documents\\Python Code\\Tensorflow Object Detection\\ObjectDetection\\data\\workspace\\images\\collectedimages\\Luong\\Luong0.jpg -> Annotation:C:/Users/DELL/OneDrive - RMIT University/Documents/Python Code/Tensorflow Object Detection/ObjectDetection/data/workspace/images/collectedimages/Luong/Luong0.xml\n",
      "Image:C:\\Users\\DELL\\OneDrive - RMIT University\\Documents\\Python Code\\Tensorflow Object Detection\\ObjectDetection\\data\\workspace\\images\\collectedimages\\Luong\\Luong1.jpg -> Annotation:C:/Users/DELL/OneDrive - RMIT University/Documents/Python Code/Tensorflow Object Detection/ObjectDetection/data/workspace/images/collectedimages/Luong/Luong1.xml\n",
      "Image:C:\\Users\\DELL\\OneDrive - RMIT University\\Documents\\Python Code\\Tensorflow Object Detection\\ObjectDetection\\data\\workspace\\images\\collectedimages\\Luong\\Luong2.jpg -> Annotation:C:/Users/DELL/OneDrive - RMIT University/Documents/Python Code/Tensorflow Object Detection/ObjectDetection/data/workspace/images/collectedimages/Luong/Luong2.xml\n",
      "Image:C:\\Users\\DELL\\OneDrive - RMIT University\\Documents\\Python Code\\Tensorflow Object Detection\\ObjectDetection\\data\\workspace\\images\\collectedimages\\Luong\\Luong4.jpg -> Annotation:C:/Users/DELL/OneDrive - RMIT University/Documents/Python Code/Tensorflow Object Detection/ObjectDetection/data/workspace/images/collectedimages/Luong/Luong4.xml\n",
      "Image:C:\\Users\\DELL\\OneDrive - RMIT University\\Documents\\Python Code\\Tensorflow Object Detection\\ObjectDetection\\data\\workspace\\images\\collectedimages\\Luong\\Luong5.jpg -> Annotation:C:/Users/DELL/OneDrive - RMIT University/Documents/Python Code/Tensorflow Object Detection/ObjectDetection/data/workspace/images/collectedimages/Luong/Luong5.xml\n",
      "Image:C:\\Users\\DELL\\OneDrive - RMIT University\\Documents\\Python Code\\Tensorflow Object Detection\\ObjectDetection\\data\\workspace\\images\\collectedimages\\Luong\\Luong6.jpg -> Annotation:C:/Users/DELL/OneDrive - RMIT University/Documents/Python Code/Tensorflow Object Detection/ObjectDetection/data/workspace/images/collectedimages/Luong/Luong6.xml\n",
      "Image:C:\\Users\\DELL\\OneDrive - RMIT University\\Documents\\Python Code\\Tensorflow Object Detection\\ObjectDetection\\data\\workspace\\images\\collectedimages\\Luong\\Luong7.jpg -> Annotation:C:/Users/DELL/OneDrive - RMIT University/Documents/Python Code/Tensorflow Object Detection/ObjectDetection/data/workspace/images/collectedimages/Luong/Luong7.xml\n",
      "Image:C:\\Users\\DELL\\OneDrive - RMIT University\\Documents\\Python Code\\Tensorflow Object Detection\\ObjectDetection\\data\\workspace\\images\\collectedimages\\Luong\\Luong8.jpg -> Annotation:C:/Users/DELL/OneDrive - RMIT University/Documents/Python Code/Tensorflow Object Detection/ObjectDetection/data/workspace/images/collectedimages/Luong/Luong8.xml\n",
      "Image:C:\\Users\\DELL\\OneDrive - RMIT University\\Documents\\Python Code\\Tensorflow Object Detection\\ObjectDetection\\data\\workspace\\images\\collectedimages\\Luong\\Luong9.jpg -> Annotation:C:/Users/DELL/OneDrive - RMIT University/Documents/Python Code/Tensorflow Object Detection/ObjectDetection/data/workspace/images/collectedimages/Luong/Luong9.xml\n",
      "Image:C:\\Users\\DELL\\OneDrive - RMIT University\\Documents\\Python Code\\Tensorflow Object Detection\\ObjectDetection\\data\\workspace\\images\\collectedimages\\Phone\\Phone0.jpg -> Annotation:C:/Users/DELL/OneDrive - RMIT University/Documents/Python Code/Tensorflow Object Detection/ObjectDetection/data/workspace/images/collectedimages/Phone/Phone0.xml\n",
      "Cancel creation.\n",
      "Image:C:\\Users\\DELL\\OneDrive - RMIT University\\Documents\\Python Code\\Tensorflow Object Detection\\ObjectDetection\\data\\workspace\\images\\collectedimages\\Phone\\Phone1.jpg -> Annotation:C:/Users/DELL/OneDrive - RMIT University/Documents/Python Code/Tensorflow Object Detection/ObjectDetection/data/workspace/images/collectedimages/Phone/Phone1.xml\n",
      "Image:C:\\Users\\DELL\\OneDrive - RMIT University\\Documents\\Python Code\\Tensorflow Object Detection\\ObjectDetection\\data\\workspace\\images\\collectedimages\\Phone\\Phone2.jpg -> Annotation:C:/Users/DELL/OneDrive - RMIT University/Documents/Python Code/Tensorflow Object Detection/ObjectDetection/data/workspace/images/collectedimages/Phone/Phone2.xml\n",
      "Image:C:\\Users\\DELL\\OneDrive - RMIT University\\Documents\\Python Code\\Tensorflow Object Detection\\ObjectDetection\\data\\workspace\\images\\collectedimages\\Phone\\Phone3.jpg -> Annotation:C:/Users/DELL/OneDrive - RMIT University/Documents/Python Code/Tensorflow Object Detection/ObjectDetection/data/workspace/images/collectedimages/Phone/Phone3.xml\n",
      "Image:C:\\Users\\DELL\\OneDrive - RMIT University\\Documents\\Python Code\\Tensorflow Object Detection\\ObjectDetection\\data\\workspace\\images\\collectedimages\\Phone\\Phone4.jpg -> Annotation:C:/Users/DELL/OneDrive - RMIT University/Documents/Python Code/Tensorflow Object Detection/ObjectDetection/data/workspace/images/collectedimages/Phone/Phone4.xml\n",
      "Image:C:\\Users\\DELL\\OneDrive - RMIT University\\Documents\\Python Code\\Tensorflow Object Detection\\ObjectDetection\\data\\workspace\\images\\collectedimages\\Phone\\Phone5.jpg -> Annotation:C:/Users/DELL/OneDrive - RMIT University/Documents/Python Code/Tensorflow Object Detection/ObjectDetection/data/workspace/images/collectedimages/Phone/Phone5.xml\n",
      "Image:C:\\Users\\DELL\\OneDrive - RMIT University\\Documents\\Python Code\\Tensorflow Object Detection\\ObjectDetection\\data\\workspace\\images\\collectedimages\\Phone\\Phone6.jpg -> Annotation:C:/Users/DELL/OneDrive - RMIT University/Documents/Python Code/Tensorflow Object Detection/ObjectDetection/data/workspace/images/collectedimages/Phone/Phone6.xml\n",
      "Image:C:\\Users\\DELL\\OneDrive - RMIT University\\Documents\\Python Code\\Tensorflow Object Detection\\ObjectDetection\\data\\workspace\\images\\collectedimages\\Phone\\Phone7.jpg -> Annotation:C:/Users/DELL/OneDrive - RMIT University/Documents/Python Code/Tensorflow Object Detection/ObjectDetection/data/workspace/images/collectedimages/Phone/Phone7.xml\n",
      "Image:C:\\Users\\DELL\\OneDrive - RMIT University\\Documents\\Python Code\\Tensorflow Object Detection\\ObjectDetection\\data\\workspace\\images\\collectedimages\\Phone\\Phone8.jpg -> Annotation:C:/Users/DELL/OneDrive - RMIT University/Documents/Python Code/Tensorflow Object Detection/ObjectDetection/data/workspace/images/collectedimages/Phone/Phone8.xml\n",
      "Image:C:\\Users\\DELL\\OneDrive - RMIT University\\Documents\\Python Code\\Tensorflow Object Detection\\ObjectDetection\\data\\workspace\\images\\collectedimages\\Phone\\Phone9.jpg -> Annotation:C:/Users/DELL/OneDrive - RMIT University/Documents/Python Code/Tensorflow Object Detection/ObjectDetection/data/workspace/images/collectedimages/Phone/Phone9.xml\n",
      "Image:C:\\Users\\DELL\\OneDrive - RMIT University\\Documents\\Python Code\\Tensorflow Object Detection\\ObjectDetection\\data\\workspace\\images\\collectedimages\\Phone\\Phone0.jpg -> Annotation:C:/Users/DELL/OneDrive - RMIT University/Documents/Python Code/Tensorflow Object Detection/ObjectDetection/data/workspace/images/collectedimages/Phone/Phone0.xml\n",
      "Image:C:\\Users\\DELL\\OneDrive - RMIT University\\Documents\\Python Code\\Tensorflow Object Detection\\ObjectDetection\\data\\workspace\\images\\collectedimages\\Phone\\Phone0.jpg -> Annotation:C:/Users/DELL/OneDrive - RMIT University/Documents/Python Code/Tensorflow Object Detection/ObjectDetection/data/workspace/images/collectedimages/Phone/Phone0.xml\n",
      "Image:C:\\Users\\DELL\\OneDrive - RMIT University\\Documents\\Python Code\\Tensorflow Object Detection\\ObjectDetection\\data\\workspace\\images\\collectedimages\\Phone\\Phone1.jpg -> Annotation:C:/Users/DELL/OneDrive - RMIT University/Documents/Python Code/Tensorflow Object Detection/ObjectDetection/data/workspace/images/collectedimages/Phone/Phone1.xml\n",
      "Image:C:\\Users\\DELL\\OneDrive - RMIT University\\Documents\\Python Code\\Tensorflow Object Detection\\ObjectDetection\\data\\workspace\\images\\collectedimages\\Phone\\Phone2.jpg -> Annotation:C:/Users/DELL/OneDrive - RMIT University/Documents/Python Code/Tensorflow Object Detection/ObjectDetection/data/workspace/images/collectedimages/Phone/Phone2.xml\n",
      "Image:C:\\Users\\DELL\\OneDrive - RMIT University\\Documents\\Python Code\\Tensorflow Object Detection\\ObjectDetection\\data\\workspace\\images\\collectedimages\\Phone\\Phone3.jpg -> Annotation:C:/Users/DELL/OneDrive - RMIT University/Documents/Python Code/Tensorflow Object Detection/ObjectDetection/data/workspace/images/collectedimages/Phone/Phone3.xml\n",
      "Image:C:\\Users\\DELL\\OneDrive - RMIT University\\Documents\\Python Code\\Tensorflow Object Detection\\ObjectDetection\\data\\workspace\\images\\collectedimages\\Phone\\Phone4.jpg -> Annotation:C:/Users/DELL/OneDrive - RMIT University/Documents/Python Code/Tensorflow Object Detection/ObjectDetection/data/workspace/images/collectedimages/Phone/Phone4.xml\n",
      "Image:C:\\Users\\DELL\\OneDrive - RMIT University\\Documents\\Python Code\\Tensorflow Object Detection\\ObjectDetection\\data\\workspace\\images\\collectedimages\\Phone\\Phone5.jpg -> Annotation:C:/Users/DELL/OneDrive - RMIT University/Documents/Python Code/Tensorflow Object Detection/ObjectDetection/data/workspace/images/collectedimages/Phone/Phone5.xml\n",
      "Image:C:\\Users\\DELL\\OneDrive - RMIT University\\Documents\\Python Code\\Tensorflow Object Detection\\ObjectDetection\\data\\workspace\\images\\collectedimages\\Phone\\Phone6.jpg -> Annotation:C:/Users/DELL/OneDrive - RMIT University/Documents/Python Code/Tensorflow Object Detection/ObjectDetection/data/workspace/images/collectedimages/Phone/Phone6.xml\n",
      "Image:C:\\Users\\DELL\\OneDrive - RMIT University\\Documents\\Python Code\\Tensorflow Object Detection\\ObjectDetection\\data\\workspace\\images\\collectedimages\\Phone\\Phone7.jpg -> Annotation:C:/Users/DELL/OneDrive - RMIT University/Documents/Python Code/Tensorflow Object Detection/ObjectDetection/data/workspace/images/collectedimages/Phone/Phone7.xml\n",
      "Image:C:\\Users\\DELL\\OneDrive - RMIT University\\Documents\\Python Code\\Tensorflow Object Detection\\ObjectDetection\\data\\workspace\\images\\collectedimages\\Phone\\Phone8.jpg -> Annotation:C:/Users/DELL/OneDrive - RMIT University/Documents/Python Code/Tensorflow Object Detection/ObjectDetection/data/workspace/images/collectedimages/Phone/Phone8.xml\n",
      "Image:C:\\Users\\DELL\\OneDrive - RMIT University\\Documents\\Python Code\\Tensorflow Object Detection\\ObjectDetection\\data\\workspace\\images\\collectedimages\\Phone\\Phone9.jpg -> Annotation:C:/Users/DELL/OneDrive - RMIT University/Documents/Python Code/Tensorflow Object Detection/ObjectDetection/data/workspace/images/collectedimages/Phone/Phone9.xml\n",
      "Image:C:\\Users\\DELL\\OneDrive - RMIT University\\Documents\\Python Code\\Tensorflow Object Detection\\ObjectDetection\\data\\workspace\\images\\collectedimages\\Pillow\\Pillow0.jpg -> Annotation:C:/Users/DELL/OneDrive - RMIT University/Documents/Python Code/Tensorflow Object Detection/ObjectDetection/data/workspace/images/collectedimages/Pillow/Pillow0.xml\n",
      "Image:C:\\Users\\DELL\\OneDrive - RMIT University\\Documents\\Python Code\\Tensorflow Object Detection\\ObjectDetection\\data\\workspace\\images\\collectedimages\\Pillow\\Pillow1.jpg -> Annotation:C:/Users/DELL/OneDrive - RMIT University/Documents/Python Code/Tensorflow Object Detection/ObjectDetection/data/workspace/images/collectedimages/Pillow/Pillow1.xml\n",
      "Cancel creation.\n",
      "Image:C:\\Users\\DELL\\OneDrive - RMIT University\\Documents\\Python Code\\Tensorflow Object Detection\\ObjectDetection\\data\\workspace\\images\\collectedimages\\Pillow\\Pillow2.jpg -> Annotation:C:/Users/DELL/OneDrive - RMIT University/Documents/Python Code/Tensorflow Object Detection/ObjectDetection/data/workspace/images/collectedimages/Pillow/Pillow2.xml\n",
      "Image:C:\\Users\\DELL\\OneDrive - RMIT University\\Documents\\Python Code\\Tensorflow Object Detection\\ObjectDetection\\data\\workspace\\images\\collectedimages\\Pillow\\Pillow3.jpg -> Annotation:C:/Users/DELL/OneDrive - RMIT University/Documents/Python Code/Tensorflow Object Detection/ObjectDetection/data/workspace/images/collectedimages/Pillow/Pillow3.xml\n",
      "Image:C:\\Users\\DELL\\OneDrive - RMIT University\\Documents\\Python Code\\Tensorflow Object Detection\\ObjectDetection\\data\\workspace\\images\\collectedimages\\Pillow\\Pillow4.jpg -> Annotation:C:/Users/DELL/OneDrive - RMIT University/Documents/Python Code/Tensorflow Object Detection/ObjectDetection/data/workspace/images/collectedimages/Pillow/Pillow4.xml\n",
      "Image:C:\\Users\\DELL\\OneDrive - RMIT University\\Documents\\Python Code\\Tensorflow Object Detection\\ObjectDetection\\data\\workspace\\images\\collectedimages\\Pillow\\Pillow5.jpg -> Annotation:C:/Users/DELL/OneDrive - RMIT University/Documents/Python Code/Tensorflow Object Detection/ObjectDetection/data/workspace/images/collectedimages/Pillow/Pillow5.xml\n",
      "Image:C:\\Users\\DELL\\OneDrive - RMIT University\\Documents\\Python Code\\Tensorflow Object Detection\\ObjectDetection\\data\\workspace\\images\\collectedimages\\Pillow\\Pillow6.jpg -> Annotation:C:/Users/DELL/OneDrive - RMIT University/Documents/Python Code/Tensorflow Object Detection/ObjectDetection/data/workspace/images/collectedimages/Pillow/Pillow6.xml\n",
      "Image:C:\\Users\\DELL\\OneDrive - RMIT University\\Documents\\Python Code\\Tensorflow Object Detection\\ObjectDetection\\data\\workspace\\images\\collectedimages\\Pillow\\Pillow7.jpg -> Annotation:C:/Users/DELL/OneDrive - RMIT University/Documents/Python Code/Tensorflow Object Detection/ObjectDetection/data/workspace/images/collectedimages/Pillow/Pillow7.xml\n",
      "Image:C:\\Users\\DELL\\OneDrive - RMIT University\\Documents\\Python Code\\Tensorflow Object Detection\\ObjectDetection\\data\\workspace\\images\\collectedimages\\Pillow\\Pillow8.jpg -> Annotation:C:/Users/DELL/OneDrive - RMIT University/Documents/Python Code/Tensorflow Object Detection/ObjectDetection/data/workspace/images/collectedimages/Pillow/Pillow8.xml\n",
      "Image:C:\\Users\\DELL\\OneDrive - RMIT University\\Documents\\Python Code\\Tensorflow Object Detection\\ObjectDetection\\data\\workspace\\images\\collectedimages\\Pillow\\Pillow9.jpg -> Annotation:C:/Users/DELL/OneDrive - RMIT University/Documents/Python Code/Tensorflow Object Detection/ObjectDetection/data/workspace/images/collectedimages/Pillow/Pillow9.xml\n"
     ]
    }
   ],
   "source": [
    "!cd {LABEL_IMAGE_PATH} && pyrcc5 -o libs/resources.py resources.qrc\n",
    "!cd {LABEL_IMAGE_PATH} && python labelImg.py"
   ]
  },
  {
   "cell_type": "markdown",
   "metadata": {},
   "source": [
    "# CREATE A LABEL MAP"
   ]
  },
  {
   "cell_type": "code",
   "execution_count": 42,
   "metadata": {},
   "outputs": [],
   "source": [
    "label_map = [{'name':'Luong','id':1},\n",
    "             {'name': 'Phone','id':2},\n",
    "             {'name': 'Pillow', 'id':3},\n",
    "             {'name': 'Picture','id':4}]\n",
    "LABEL_MAP_NAME = 'label_map.pbtxt'\n",
    "LABEL_MAP_PATH = os.path.join('data','workspace','label_map',LABEL_MAP_NAME)\n",
    "if not os.path.exists(LABEL_MAP_PATH):\n",
    "    os.path.join(LABEL_MAP_PATH)\n",
    "with open(LABEL_MAP_PATH,'w') as f:\n",
    "    for label in label_map:\n",
    "        f.write(\"item{ \\n\")\n",
    "        f.write(\"\\tname: '{}' \\n\".format(label['name']))\n",
    "        f.write(\"\\tid: {} \\n\".format(label['id']))\n",
    "        f.write('} \\n')\n"
   ]
  },
  {
   "cell_type": "markdown",
   "metadata": {},
   "source": [
    "# Tensorflow Object Detection API Installation\n",
    "### Don't need to run again if uneccesary"
   ]
  },
  {
   "cell_type": "markdown",
   "metadata": {},
   "source": [
    "1. Downloading the TensorFlow Model Garden\n"
   ]
  },
  {
   "cell_type": "code",
   "execution_count": 14,
   "metadata": {},
   "outputs": [],
   "source": [
    "OBJECT_DETECTION_PATH = os.path.join('data','Tensorflow','models')\n",
    "if not os.path.exists(OBJECT_DETECTION_PATH):\n",
    "    os.mkdir(OBJECT_DETECTION_PATH)\n",
    "if not os.path.exists(os.path.join(OBJECT_DETECTION_PATH,'research')):\n",
    "    !git clone https://github.com/tensorflow/models {OBJECT_DETECTION_PATH}"
   ]
  },
  {
   "cell_type": "markdown",
   "metadata": {},
   "source": [
    "2. Protobuf Installation"
   ]
  },
  {
   "cell_type": "code",
   "execution_count": 16,
   "metadata": {},
   "outputs": [],
   "source": [
    "from zipfile import ZipFile\n",
    "\n",
    "PATH_TO_PROTOC_FOLDER = os.path.join('data','Tensorflow','protoc')\n",
    "if not os.path.exists(PATH_TO_PROTOC_FOLDER):\n",
    "    os.mkdir(PATH_TO_PROTOC_FOLDER)\n",
    "\n",
    "PROTOC_ZIP_NAME = 'protoc-21.1-win64' + '.zip'\n",
    "PATH_TO_PROTOC_ZIP = os.path.join(PATH_TO_PROTOC_FOLDER,PROTOC_ZIP_NAME)\n",
    "if not os.path.exists(PATH_TO_PROTOC_ZIP):\n",
    "    PROTOC_DOWNLOAD_LINK = 'https://github.com/protocolbuffers/protobuf/releases/download/v3.15.6/protoc-3.15.6-win64.zip'\n",
    "    urllib.request.urlretrieve(PROTOC_DOWNLOAD_LINK,PATH_TO_PROTOC_ZIP)\n",
    "    with ZipFile(PATH_TO_PROTOC_ZIP,'r') as zip_ref:\n",
    "        zip_ref.extractall(PATH_TO_PROTOC_FOLDER)\n",
    "    os.remove(PATH_TO_PROTOC_ZIP)"
   ]
  },
  {
   "cell_type": "code",
   "execution_count": 17,
   "metadata": {},
   "outputs": [],
   "source": [
    "!cd \"data/Tensorflow/models/research/\" && protoc object_detection/protos/*.proto --python_out=."
   ]
  },
  {
   "cell_type": "code",
   "execution_count": 18,
   "metadata": {},
   "outputs": [],
   "source": [
    "PATH = os.path.join('data','Tensorflow','models','research','setup.py')\n",
    "if not os.path.exists(PATH):\n",
    "    !cd \"data/Tensorflow/models/research/\" && copy \"object_detection/packages/tf2\" .\n",
    "    !cd \"data/Tensorflow/models/research/\" && python -m pip install --use-feature=2020-resolver ."
   ]
  },
  {
   "cell_type": "markdown",
   "metadata": {},
   "source": [
    "3. COCO API Installation"
   ]
  },
  {
   "cell_type": "code",
   "execution_count": 21,
   "metadata": {},
   "outputs": [],
   "source": [
    "PATH_TO_COCO = os.path.join('data','Tensorflow','coco')\n",
    "COCO_DOWNLOAD_LINK = 'https://github.com/philferriere/cocoapi'\n",
    "\n",
    "if not os.path.exists(PATH_TO_COCO):\n",
    "    os.mkdir(PATH_TO_COCO)\n",
    "\n",
    "PATH_TO_A_COCO_FOLDER = os.path.join(PATH_TO_COCO,'PythonAPI')\n",
    "if not os.path.exists(PATH_TO_A_COCO_FOLDER):\n",
    "    !git clone https://github.com/philferriere/cocoapi {PATH_TO_COCO}"
   ]
  },
  {
   "cell_type": "markdown",
   "metadata": {},
   "source": [
    "Upgrade tf_v1 files to tf_v2"
   ]
  },
  {
   "cell_type": "code",
   "execution_count": 22,
   "metadata": {},
   "outputs": [],
   "source": [
    "# !tf_upgrade_v2 \\\n",
    "#   --intree tfod\\Lib\\site-packages\\object_detection\\ \\\n",
    "#   --outtree tfod\\Lib\\site-packages\\object_detection\\ \\\n",
    "#   --reportfile report.txt"
   ]
  },
  {
   "cell_type": "markdown",
   "metadata": {},
   "source": [
    "# Generate TF Records from the images"
   ]
  },
  {
   "cell_type": "code",
   "execution_count": 43,
   "metadata": {},
   "outputs": [],
   "source": [
    "TF_RECORDS_PATH = os.path.join('data','workspace','TFRecords') \n",
    "if not os.path.exists(TF_RECORDS_PATH):\n",
    "    os.mkdir(TF_RECORDS_PATH)\n",
    "    \n",
    "# CLONING THE TF RECORD GENERATION SCRIPT \n",
    "TF_RECORDS_SCRIPT = os.path.join(TF_RECORDS_PATH,'generate_tfrecord.py')\n",
    "if not os.path.exists(TF_RECORDS_SCRIPT):\n",
    "    !git clone https://github.com/nicknochnack/GenerateTFRecord/ {TF_RECORDS_PATH}"
   ]
  },
  {
   "cell_type": "markdown",
   "metadata": {},
   "source": [
    "1. Small Step: Move all pictures in each label folder to one consolidated folder"
   ]
  },
  {
   "cell_type": "code",
   "execution_count": 44,
   "metadata": {},
   "outputs": [],
   "source": [
    "import shutil\n",
    "import os\n",
    "\n",
    "PATH_TO_TRAIN = os.path.join('data','workspace','images','collectedimages','train')\n",
    "PATH_TO_TEST = os.path.join('data','workspace','images','collectedimages','test')\n",
    "def makedir(path):\n",
    "    if not os.path.exists(path):\n",
    "        os.mkdir(path)\n",
    "makedir(PATH_TO_TRAIN)\n",
    "makedir(PATH_TO_TEST)\n",
    "\n",
    "for label in labels:  \n",
    "    source_dir = os.path.join('data','workspace','images','collectedimages',label)  \n",
    "    file_names = os.listdir(source_dir) \n",
    "    for file_name in file_names[:10]:\n",
    "        shutil.copy(os.path.join(source_dir, file_name), PATH_TO_TRAIN)\n",
    "    for file_name in file_names[-2:]:\n",
    "        shutil.copy(os.path.join(source_dir, file_name), PATH_TO_TEST)\n",
    "    "
   ]
  },
  {
   "cell_type": "markdown",
   "metadata": {},
   "source": [
    "Generate TF Records for each images and their relative xml files. Then append them to Annotations folder "
   ]
  },
  {
   "cell_type": "code",
   "execution_count": 47,
   "metadata": {},
   "outputs": [
    {
     "name": "stdout",
     "output_type": "stream",
     "text": [
      "Successfully created the TFRecord file: data\\workspace\\annotations\\train.record\n"
     ]
    },
    {
     "name": "stderr",
     "output_type": "stream",
     "text": [
      "2022-06-25 13:13:14.267956: W tensorflow/stream_executor/platform/default/dso_loader.cc:64] Could not load dynamic library 'cudart64_110.dll'; dlerror: cudart64_110.dll not found\n",
      "2022-06-25 13:13:14.268460: I tensorflow/stream_executor/cuda/cudart_stub.cc:29] Ignore above cudart dlerror if you do not have a GPU set up on your machine.\n",
      "WARNING:tensorflow:Please fix your imports. Module tensorflow.python.training.tracking.base has been moved to tensorflow.python.trackable.base. The old module will be deleted in version 2.11.\n",
      "WARNING:tensorflow:Please fix your imports. Module tensorflow.python.training.saving.functional_saver has been moved to tensorflow.python.checkpoint.functional_saver. The old module will be deleted in version 2.11.\n",
      "WARNING:tensorflow:Please fix your imports. Module tensorflow.python.training.saving.checkpoint_options has been moved to tensorflow.python.checkpoint.checkpoint_options. The old module will be deleted in version 2.11.\n",
      "2022-06-25 13:13:32.762592: W tensorflow/stream_executor/platform/default/dso_loader.cc:64] Could not load dynamic library 'cudart64_110.dll'; dlerror: cudart64_110.dll not found\n",
      "2022-06-25 13:13:32.764356: W tensorflow/stream_executor/platform/default/dso_loader.cc:64] Could not load dynamic library 'cublas64_11.dll'; dlerror: cublas64_11.dll not found\n",
      "2022-06-25 13:13:32.765667: W tensorflow/stream_executor/platform/default/dso_loader.cc:64] Could not load dynamic library 'cublasLt64_11.dll'; dlerror: cublasLt64_11.dll not found\n",
      "2022-06-25 13:13:32.766588: W tensorflow/stream_executor/platform/default/dso_loader.cc:64] Could not load dynamic library 'cufft64_10.dll'; dlerror: cufft64_10.dll not found\n",
      "2022-06-25 13:13:32.767495: W tensorflow/stream_executor/platform/default/dso_loader.cc:64] Could not load dynamic library 'curand64_10.dll'; dlerror: curand64_10.dll not found\n",
      "2022-06-25 13:13:32.768326: W tensorflow/stream_executor/platform/default/dso_loader.cc:64] Could not load dynamic library 'cusolver64_11.dll'; dlerror: cusolver64_11.dll not found\n",
      "2022-06-25 13:13:32.769095: W tensorflow/stream_executor/platform/default/dso_loader.cc:64] Could not load dynamic library 'cusparse64_11.dll'; dlerror: cusparse64_11.dll not found\n",
      "2022-06-25 13:13:32.769892: W tensorflow/stream_executor/platform/default/dso_loader.cc:64] Could not load dynamic library 'cudnn64_8.dll'; dlerror: cudnn64_8.dll not found\n",
      "2022-06-25 13:13:32.770313: W tensorflow/core/common_runtime/gpu/gpu_device.cc:1934] Cannot dlopen some GPU libraries. Please make sure the missing libraries mentioned above are installed properly if you would like to use GPU. Follow the guide at https://www.tensorflow.org/install/gpu for how to download and setup the required libraries for your platform.\n",
      "Skipping registering GPU devices...\n"
     ]
    },
    {
     "name": "stdout",
     "output_type": "stream",
     "text": [
      "Successfully created the TFRecord file: data\\workspace\\annotations\\test.record\n"
     ]
    },
    {
     "name": "stderr",
     "output_type": "stream",
     "text": [
      "2022-06-25 13:13:33.923070: W tensorflow/stream_executor/platform/default/dso_loader.cc:64] Could not load dynamic library 'cudart64_110.dll'; dlerror: cudart64_110.dll not found\n",
      "2022-06-25 13:13:33.923657: I tensorflow/stream_executor/cuda/cudart_stub.cc:29] Ignore above cudart dlerror if you do not have a GPU set up on your machine.\n",
      "WARNING:tensorflow:Please fix your imports. Module tensorflow.python.training.tracking.base has been moved to tensorflow.python.trackable.base. The old module will be deleted in version 2.11.\n",
      "WARNING:tensorflow:Please fix your imports. Module tensorflow.python.training.saving.functional_saver has been moved to tensorflow.python.checkpoint.functional_saver. The old module will be deleted in version 2.11.\n",
      "WARNING:tensorflow:Please fix your imports. Module tensorflow.python.training.saving.checkpoint_options has been moved to tensorflow.python.checkpoint.checkpoint_options. The old module will be deleted in version 2.11.\n",
      "2022-06-25 13:13:39.400990: W tensorflow/stream_executor/platform/default/dso_loader.cc:64] Could not load dynamic library 'cudart64_110.dll'; dlerror: cudart64_110.dll not found\n",
      "2022-06-25 13:13:39.401899: W tensorflow/stream_executor/platform/default/dso_loader.cc:64] Could not load dynamic library 'cublas64_11.dll'; dlerror: cublas64_11.dll not found\n",
      "2022-06-25 13:13:39.402727: W tensorflow/stream_executor/platform/default/dso_loader.cc:64] Could not load dynamic library 'cublasLt64_11.dll'; dlerror: cublasLt64_11.dll not found\n",
      "2022-06-25 13:13:39.403535: W tensorflow/stream_executor/platform/default/dso_loader.cc:64] Could not load dynamic library 'cufft64_10.dll'; dlerror: cufft64_10.dll not found\n",
      "2022-06-25 13:13:39.404375: W tensorflow/stream_executor/platform/default/dso_loader.cc:64] Could not load dynamic library 'curand64_10.dll'; dlerror: curand64_10.dll not found\n",
      "2022-06-25 13:13:39.405234: W tensorflow/stream_executor/platform/default/dso_loader.cc:64] Could not load dynamic library 'cusolver64_11.dll'; dlerror: cusolver64_11.dll not found\n",
      "2022-06-25 13:13:39.406089: W tensorflow/stream_executor/platform/default/dso_loader.cc:64] Could not load dynamic library 'cusparse64_11.dll'; dlerror: cusparse64_11.dll not found\n",
      "2022-06-25 13:13:39.406931: W tensorflow/stream_executor/platform/default/dso_loader.cc:64] Could not load dynamic library 'cudnn64_8.dll'; dlerror: cudnn64_8.dll not found\n",
      "2022-06-25 13:13:39.407229: W tensorflow/core/common_runtime/gpu/gpu_device.cc:1934] Cannot dlopen some GPU libraries. Please make sure the missing libraries mentioned above are installed properly if you would like to use GPU. Follow the guide at https://www.tensorflow.org/install/gpu for how to download and setup the required libraries for your platform.\n",
      "Skipping registering GPU devices...\n"
     ]
    }
   ],
   "source": [
    "PATH_TO_LABEL_MAP = os.path.join('data','workspace','label_map','label_map.pbtxt')\n",
    "# PATH_TO_TRAIN_RECORD = os.path.join('data','workspace','TFRecords','train.record')\n",
    "PATH_TO_ANNOTATION = os.path.join('data','workspace','annotations')\n",
    "if not os.path.exists(os.path.join(PATH_TO_ANNOTATION,'train.record')):\n",
    "    !python {TF_RECORDS_SCRIPT} -x {PATH_TO_TRAIN} -l {PATH_TO_LABEL_MAP} -o {os.path.join(PATH_TO_ANNOTATION,'train.record')}\n",
    "if not os.path.exists(os.path.join(PATH_TO_ANNOTATION,'test.record')):\n",
    "    !python {TF_RECORDS_SCRIPT} -x {PATH_TO_TEST} -l {PATH_TO_LABEL_MAP} -o {os.path.join(PATH_TO_ANNOTATION,'test.record')}\n",
    "    "
   ]
  },
  {
   "cell_type": "markdown",
   "metadata": {},
   "source": [
    "# Create a CHECKPOINT path and Copy Model Config to it\n",
    "### Don't need to run again if unnecessary"
   ]
  },
  {
   "cell_type": "code",
   "execution_count": 56,
   "metadata": {},
   "outputs": [
    {
     "name": "stdout",
     "output_type": "stream",
     "text": [
      "        1 file(s) copied.\n"
     ]
    }
   ],
   "source": [
    "CHECKPOINT_PATH = os.path.join('data','workspace','checkpoint')\n",
    "if not os.path.exists(CHECKPOINT_PATH):\n",
    "    os.mkdir(CHECKPOINT_PATH)\n",
    "if not os.path.exists(os.path.join(CHECKPOINT_PATH,'pipeline.config')):\n",
    "    !copy {PATH_TO_CONFIG} {CHECKPOINT_PATH}\n"
   ]
  },
  {
   "cell_type": "markdown",
   "metadata": {},
   "source": [
    "# Update Config for Transfer Learning"
   ]
  },
  {
   "cell_type": "code",
   "execution_count": 57,
   "metadata": {},
   "outputs": [],
   "source": [
    "import tensorflow as tf\n",
    "from object_detection.utils import config_util\n",
    "from object_detection.protos import pipeline_pb2\n",
    "from google.protobuf import text_format"
   ]
  },
  {
   "cell_type": "code",
   "execution_count": 58,
   "metadata": {},
   "outputs": [],
   "source": [
    "PATH_TO_CONFIG = os.path.join('data','models',MODEL_NAME,'pipeline.config')\n",
    "config = config_util.get_configs_from_pipeline_file(PATH_TO_CONFIG)"
   ]
  },
  {
   "cell_type": "code",
   "execution_count": 59,
   "metadata": {},
   "outputs": [],
   "source": [
    "pipeline_config = pipeline_pb2.TrainEvalPipelineConfig()\n",
    "with tf.io.gfile.GFile(PATH_TO_CONFIG, \"r\") as f:                                                                                                                                                                                                                     \n",
    "    proto_str = f.read()                                                                                                                                                                                                                                          \n",
    "    text_format.Merge(proto_str, pipeline_config)  "
   ]
  },
  {
   "cell_type": "code",
   "execution_count": 60,
   "metadata": {},
   "outputs": [],
   "source": [
    "pipeline_config.model.ssd.num_classes = len(labels)\n",
    "pipeline_config.train_config.batch_size = num_img\n",
    "pipeline_config.train_config.fine_tune_checkpoint = os.path.join('data', 'models', MODEL_NAME, 'checkpoint', 'ckpt-0')\n",
    "pipeline_config.train_config.fine_tune_checkpoint_type = \"detection\"\n",
    "pipeline_config.train_input_reader.label_map_path= os.path.join('data','workspace','label_map','label_map.pbtxt')\n",
    "pipeline_config.train_input_reader.tf_record_input_reader.input_path[:] = [os.path.join('data','workspace','annotations','train.record')]\n",
    "pipeline_config.eval_input_reader[0].label_map_path = os.path.join('data','workspace','label_map','label_map.pbtxt')\n",
    "pipeline_config.eval_input_reader[0].tf_record_input_reader.input_path[:] = [os.path.join('data','workspace','annotations','test.record')]"
   ]
  },
  {
   "cell_type": "code",
   "execution_count": 61,
   "metadata": {},
   "outputs": [],
   "source": [
    "config_text = text_format.MessageToString(pipeline_config)                                                                                                                                                                                                        \n",
    "with tf.io.gfile.GFile(PATH_TO_CONFIG, \"wb\") as f:                                                                                                                                                                                                                     \n",
    "    f.write(config_text)   "
   ]
  },
  {
   "cell_type": "markdown",
   "metadata": {},
   "source": [
    "# Train the model\n",
    "### Don't run again if unnecessary"
   ]
  },
  {
   "cell_type": "code",
   "execution_count": 62,
   "metadata": {},
   "outputs": [],
   "source": [
    "TRAINING_SCRIPT = os.path.join('data','Tensorflow','models','research','object_detection','model_main_tf2.py')\n",
    "MODEL_DIRECTORY = os.path.join('data','workspace','checkpoint')"
   ]
  },
  {
   "cell_type": "code",
   "execution_count": 63,
   "metadata": {},
   "outputs": [],
   "source": [
    "command = \"python {} --model_dir={} --pipeline_config_path={} --num_train_steps=1000\".format(TRAINING_SCRIPT,MODEL_DIRECTORY,PATH_TO_CONFIG)"
   ]
  },
  {
   "cell_type": "code",
   "execution_count": 64,
   "metadata": {},
   "outputs": [],
   "source": [
    "# print(command)"
   ]
  },
  {
   "cell_type": "code",
   "execution_count": 65,
   "metadata": {},
   "outputs": [
    {
     "name": "stderr",
     "output_type": "stream",
     "text": [
      "2022-06-25 13:22:04.791833: W tensorflow/stream_executor/platform/default/dso_loader.cc:64] Could not load dynamic library 'cudart64_110.dll'; dlerror: cudart64_110.dll not found\n",
      "2022-06-25 13:22:04.792876: I tensorflow/stream_executor/cuda/cudart_stub.cc:29] Ignore above cudart dlerror if you do not have a GPU set up on your machine.\n",
      "WARNING:tensorflow:Please fix your imports. Module tensorflow.python.training.tracking.base has been moved to tensorflow.python.trackable.base. The old module will be deleted in version 2.11.\n",
      "WARNING:tensorflow:Please fix your imports. Module tensorflow.python.training.saving.functional_saver has been moved to tensorflow.python.checkpoint.functional_saver. The old module will be deleted in version 2.11.\n",
      "WARNING:tensorflow:Please fix your imports. Module tensorflow.python.training.saving.checkpoint_options has been moved to tensorflow.python.checkpoint.checkpoint_options. The old module will be deleted in version 2.11.\n",
      "c:\\Users\\DELL\\OneDrive - RMIT University\\Documents\\Python Code\\Tensorflow Object Detection\\ObjectDetection\\tfod\\lib\\site-packages\\tensorflow_addons\\utils\\ensure_tf_install.py:37: UserWarning: You are currently using a nightly version of TensorFlow (2.10.0-dev20220623). \n",
      "TensorFlow Addons offers no support for the nightly versions of TensorFlow. Some things might work, some other might not. \n",
      "If you encounter a bug, do not file an issue on GitHub.\n",
      "  warnings.warn(\n",
      "2022-06-25 13:22:14.792621: W tensorflow/stream_executor/platform/default/dso_loader.cc:64] Could not load dynamic library 'cudart64_110.dll'; dlerror: cudart64_110.dll not found\n",
      "2022-06-25 13:22:14.793411: W tensorflow/stream_executor/platform/default/dso_loader.cc:64] Could not load dynamic library 'cublas64_11.dll'; dlerror: cublas64_11.dll not found\n",
      "2022-06-25 13:22:14.794144: W tensorflow/stream_executor/platform/default/dso_loader.cc:64] Could not load dynamic library 'cublasLt64_11.dll'; dlerror: cublasLt64_11.dll not found\n",
      "2022-06-25 13:22:14.795152: W tensorflow/stream_executor/platform/default/dso_loader.cc:64] Could not load dynamic library 'cufft64_10.dll'; dlerror: cufft64_10.dll not found\n",
      "2022-06-25 13:22:14.796362: W tensorflow/stream_executor/platform/default/dso_loader.cc:64] Could not load dynamic library 'curand64_10.dll'; dlerror: curand64_10.dll not found\n",
      "2022-06-25 13:22:14.797434: W tensorflow/stream_executor/platform/default/dso_loader.cc:64] Could not load dynamic library 'cusolver64_11.dll'; dlerror: cusolver64_11.dll not found\n",
      "2022-06-25 13:22:14.798629: W tensorflow/stream_executor/platform/default/dso_loader.cc:64] Could not load dynamic library 'cusparse64_11.dll'; dlerror: cusparse64_11.dll not found\n",
      "2022-06-25 13:22:14.799643: W tensorflow/stream_executor/platform/default/dso_loader.cc:64] Could not load dynamic library 'cudnn64_8.dll'; dlerror: cudnn64_8.dll not found\n",
      "2022-06-25 13:22:14.800094: W tensorflow/core/common_runtime/gpu/gpu_device.cc:1934] Cannot dlopen some GPU libraries. Please make sure the missing libraries mentioned above are installed properly if you would like to use GPU. Follow the guide at https://www.tensorflow.org/install/gpu for how to download and setup the required libraries for your platform.\n",
      "Skipping registering GPU devices...\n",
      "2022-06-25 13:22:14.808103: I tensorflow/core/platform/cpu_feature_guard.cc:193] This TensorFlow binary is optimized with oneAPI Deep Neural Network Library (oneDNN) to use the following CPU instructions in performance-critical operations:  AVX AVX2\n",
      "To enable them in other operations, rebuild TensorFlow with the appropriate compiler flags.\n",
      "WARNING:tensorflow:There are non-GPU devices in `tf.distribute.Strategy`, not using nccl allreduce.\n",
      "W0625 13:22:14.810369 20840 cross_device_ops.py:1387] There are non-GPU devices in `tf.distribute.Strategy`, not using nccl allreduce.\n",
      "INFO:tensorflow:Using MirroredStrategy with devices ('/job:localhost/replica:0/task:0/device:CPU:0',)\n",
      "I0625 13:22:14.888484 20840 mirrored_strategy.py:374] Using MirroredStrategy with devices ('/job:localhost/replica:0/task:0/device:CPU:0',)\n",
      "INFO:tensorflow:Maybe overwriting train_steps: 1000\n",
      "I0625 13:22:14.888484 20840 config_util.py:552] Maybe overwriting train_steps: 1000\n",
      "INFO:tensorflow:Maybe overwriting use_bfloat16: False\n",
      "I0625 13:22:14.888484 20840 config_util.py:552] Maybe overwriting use_bfloat16: False\n",
      "WARNING:tensorflow:From c:\\Users\\DELL\\OneDrive - RMIT University\\Documents\\Python Code\\Tensorflow Object Detection\\ObjectDetection\\tfod\\lib\\site-packages\\object_detection\\model_lib_v2.py:563: StrategyBase.experimental_distribute_datasets_from_function (from tensorflow.python.distribute.distribute_lib) is deprecated and will be removed in a future version.\n",
      "Instructions for updating:\n",
      "rename to distribute_datasets_from_function\n",
      "W0625 13:22:14.935750 20840 deprecation.py:350] From c:\\Users\\DELL\\OneDrive - RMIT University\\Documents\\Python Code\\Tensorflow Object Detection\\ObjectDetection\\tfod\\lib\\site-packages\\object_detection\\model_lib_v2.py:563: StrategyBase.experimental_distribute_datasets_from_function (from tensorflow.python.distribute.distribute_lib) is deprecated and will be removed in a future version.\n",
      "Instructions for updating:\n",
      "rename to distribute_datasets_from_function\n",
      "INFO:tensorflow:Reading unweighted datasets: ['data\\\\workspace\\\\annotations\\\\train.record']\n",
      "I0625 13:22:14.951371 20840 dataset_builder.py:162] Reading unweighted datasets: ['data\\\\workspace\\\\annotations\\\\train.record']\n",
      "INFO:tensorflow:Reading record datasets for input file: ['data\\\\workspace\\\\annotations\\\\train.record']\n",
      "I0625 13:22:14.951371 20840 dataset_builder.py:79] Reading record datasets for input file: ['data\\\\workspace\\\\annotations\\\\train.record']\n",
      "INFO:tensorflow:Number of filenames to read: 1\n",
      "I0625 13:22:14.951371 20840 dataset_builder.py:80] Number of filenames to read: 1\n",
      "WARNING:tensorflow:num_readers has been reduced to 1 to match input file shards.\n",
      "W0625 13:22:14.951371 20840 dataset_builder.py:86] num_readers has been reduced to 1 to match input file shards.\n",
      "WARNING:tensorflow:From c:\\Users\\DELL\\OneDrive - RMIT University\\Documents\\Python Code\\Tensorflow Object Detection\\ObjectDetection\\tfod\\lib\\site-packages\\object_detection\\builders\\dataset_builder.py:100: parallel_interleave (from tensorflow.python.data.experimental.ops.interleave_ops) is deprecated and will be removed in a future version.\n",
      "Instructions for updating:\n",
      "Use `tf.data.Dataset.interleave(map_func, cycle_length, block_length, num_parallel_calls=tf.data.AUTOTUNE)` instead. If sloppy execution is desired, use `tf.data.Options.deterministic`.\n",
      "W0625 13:22:14.967301 20840 deprecation.py:350] From c:\\Users\\DELL\\OneDrive - RMIT University\\Documents\\Python Code\\Tensorflow Object Detection\\ObjectDetection\\tfod\\lib\\site-packages\\object_detection\\builders\\dataset_builder.py:100: parallel_interleave (from tensorflow.python.data.experimental.ops.interleave_ops) is deprecated and will be removed in a future version.\n",
      "Instructions for updating:\n",
      "Use `tf.data.Dataset.interleave(map_func, cycle_length, block_length, num_parallel_calls=tf.data.AUTOTUNE)` instead. If sloppy execution is desired, use `tf.data.Options.deterministic`.\n",
      "WARNING:tensorflow:From c:\\Users\\DELL\\OneDrive - RMIT University\\Documents\\Python Code\\Tensorflow Object Detection\\ObjectDetection\\tfod\\lib\\site-packages\\object_detection\\builders\\dataset_builder.py:235: DatasetV1.map_with_legacy_function (from tensorflow.python.data.ops.dataset_ops) is deprecated and will be removed in a future version.\n",
      "Instructions for updating:\n",
      "Use `tf.data.Dataset.map()\n",
      "W0625 13:22:15.010350 20840 deprecation.py:350] From c:\\Users\\DELL\\OneDrive - RMIT University\\Documents\\Python Code\\Tensorflow Object Detection\\ObjectDetection\\tfod\\lib\\site-packages\\object_detection\\builders\\dataset_builder.py:235: DatasetV1.map_with_legacy_function (from tensorflow.python.data.ops.dataset_ops) is deprecated and will be removed in a future version.\n",
      "Instructions for updating:\n",
      "Use `tf.data.Dataset.map()\n",
      "WARNING:tensorflow:From c:\\Users\\DELL\\OneDrive - RMIT University\\Documents\\Python Code\\Tensorflow Object Detection\\ObjectDetection\\tfod\\lib\\site-packages\\tensorflow\\python\\util\\dispatch.py:1176: sparse_to_dense (from tensorflow.python.ops.sparse_ops) is deprecated and will be removed in a future version.\n",
      "Instructions for updating:\n",
      "Create a `tf.sparse.SparseTensor` and use `tf.sparse.to_dense` instead.\n",
      "W0625 13:22:24.229485 20840 deprecation.py:350] From c:\\Users\\DELL\\OneDrive - RMIT University\\Documents\\Python Code\\Tensorflow Object Detection\\ObjectDetection\\tfod\\lib\\site-packages\\tensorflow\\python\\util\\dispatch.py:1176: sparse_to_dense (from tensorflow.python.ops.sparse_ops) is deprecated and will be removed in a future version.\n",
      "Instructions for updating:\n",
      "Create a `tf.sparse.SparseTensor` and use `tf.sparse.to_dense` instead.\n",
      "WARNING:tensorflow:From c:\\Users\\DELL\\OneDrive - RMIT University\\Documents\\Python Code\\Tensorflow Object Detection\\ObjectDetection\\tfod\\lib\\site-packages\\tensorflow\\python\\util\\dispatch.py:1176: sample_distorted_bounding_box (from tensorflow.python.ops.image_ops_impl) is deprecated and will be removed in a future version.\n",
      "Instructions for updating:\n",
      "`seed2` arg is deprecated.Use sample_distorted_bounding_box_v2 instead.\n",
      "W0625 13:22:31.461946 20840 deprecation.py:350] From c:\\Users\\DELL\\OneDrive - RMIT University\\Documents\\Python Code\\Tensorflow Object Detection\\ObjectDetection\\tfod\\lib\\site-packages\\tensorflow\\python\\util\\dispatch.py:1176: sample_distorted_bounding_box (from tensorflow.python.ops.image_ops_impl) is deprecated and will be removed in a future version.\n",
      "Instructions for updating:\n",
      "`seed2` arg is deprecated.Use sample_distorted_bounding_box_v2 instead.\n",
      "WARNING:tensorflow:From c:\\Users\\DELL\\OneDrive - RMIT University\\Documents\\Python Code\\Tensorflow Object Detection\\ObjectDetection\\tfod\\lib\\site-packages\\tensorflow\\python\\util\\dispatch.py:1176: to_float (from tensorflow.python.ops.math_ops) is deprecated and will be removed in a future version.\n",
      "Instructions for updating:\n",
      "Use `tf.cast` instead.\n",
      "W0625 13:22:38.517927 20840 deprecation.py:350] From c:\\Users\\DELL\\OneDrive - RMIT University\\Documents\\Python Code\\Tensorflow Object Detection\\ObjectDetection\\tfod\\lib\\site-packages\\tensorflow\\python\\util\\dispatch.py:1176: to_float (from tensorflow.python.ops.math_ops) is deprecated and will be removed in a future version.\n",
      "Instructions for updating:\n",
      "Use `tf.cast` instead.\n",
      "2022-06-25 13:22:45.072031: W tensorflow/core/framework/dataset.cc:769] Input of GeneratorDatasetOp::Dataset will not be optimized because the dataset does not implement the AsGraphDefInternal() method needed to apply optimizations.\n",
      "c:\\Users\\DELL\\OneDrive - RMIT University\\Documents\\Python Code\\Tensorflow Object Detection\\ObjectDetection\\tfod\\lib\\site-packages\\keras\\backend.py:451: UserWarning: `tf.keras.backend.set_learning_phase` is deprecated and will be removed after 2020-10-11. To update it, simply pass a True/False value to the `training` argument of the `__call__` method of your layer or model.\n",
      "  warnings.warn(\n",
      "INFO:tensorflow:depth of additional conv before box predictor: 0\n",
      "I0625 13:23:03.355450 28244 convolutional_keras_box_predictor.py:152] depth of additional conv before box predictor: 0\n",
      "INFO:tensorflow:depth of additional conv before box predictor: 0\n",
      "I0625 13:23:03.355450 28244 convolutional_keras_box_predictor.py:152] depth of additional conv before box predictor: 0\n",
      "INFO:tensorflow:depth of additional conv before box predictor: 0\n",
      "I0625 13:23:03.355450 28244 convolutional_keras_box_predictor.py:152] depth of additional conv before box predictor: 0\n",
      "INFO:tensorflow:depth of additional conv before box predictor: 0\n",
      "I0625 13:23:03.355450 28244 convolutional_keras_box_predictor.py:152] depth of additional conv before box predictor: 0\n",
      "INFO:tensorflow:depth of additional conv before box predictor: 0\n",
      "I0625 13:23:03.355450 28244 convolutional_keras_box_predictor.py:152] depth of additional conv before box predictor: 0\n",
      "INFO:tensorflow:depth of additional conv before box predictor: 0\n",
      "I0625 13:23:03.355450 28244 convolutional_keras_box_predictor.py:152] depth of additional conv before box predictor: 0\n",
      "2022-06-25 13:23:19.066618: W tensorflow/core/framework/cpu_allocator_impl.cc:82] Allocation of 86400000 exceeds 10% of free system memory.\n",
      "2022-06-25 13:23:21.430085: W tensorflow/core/framework/dataset.cc:769] Input of GeneratorDatasetOp::Dataset will not be optimized because the dataset does not implement the AsGraphDefInternal() method needed to apply optimizations.\n",
      "WARNING:tensorflow:From c:\\Users\\DELL\\OneDrive - RMIT University\\Documents\\Python Code\\Tensorflow Object Detection\\ObjectDetection\\tfod\\lib\\site-packages\\tensorflow\\python\\util\\deprecation.py:629: calling map_fn_v2 (from tensorflow.python.ops.map_fn) with dtype is deprecated and will be removed in a future version.\n",
      "Instructions for updating:\n",
      "Use fn_output_signature instead\n",
      "W0625 13:23:22.292002  3448 deprecation.py:554] From c:\\Users\\DELL\\OneDrive - RMIT University\\Documents\\Python Code\\Tensorflow Object Detection\\ObjectDetection\\tfod\\lib\\site-packages\\tensorflow\\python\\util\\deprecation.py:629: calling map_fn_v2 (from tensorflow.python.ops.map_fn) with dtype is deprecated and will be removed in a future version.\n",
      "Instructions for updating:\n",
      "Use fn_output_signature instead\n",
      "2022-06-25 13:24:03.259755: W tensorflow/core/framework/cpu_allocator_impl.cc:82] Allocation of 86400000 exceeds 10% of free system memory.\n",
      "2022-06-25 13:24:03.331098: W tensorflow/core/framework/cpu_allocator_impl.cc:82] Allocation of 86400000 exceeds 10% of free system memory.\n",
      "2022-06-25 13:24:06.338668: W tensorflow/core/framework/cpu_allocator_impl.cc:82] Allocation of 86400000 exceeds 10% of free system memory.\n",
      "2022-06-25 13:24:06.420473: W tensorflow/core/framework/cpu_allocator_impl.cc:82] Allocation of 86400000 exceeds 10% of free system memory.\n",
      "INFO:tensorflow:Step 100 per-step time 3.218s\n",
      "I0625 13:28:43.942501 20840 model_lib_v2.py:705] Step 100 per-step time 3.218s\n",
      "INFO:tensorflow:{'Loss/classification_loss': 0.34979594,\n",
      " 'Loss/localization_loss': 0.229015,\n",
      " 'Loss/regularization_loss': 0.10602514,\n",
      " 'Loss/total_loss': 0.68483603,\n",
      " 'learning_rate': 0.1666635}\n",
      "I0625 13:28:43.973748 20840 model_lib_v2.py:708] {'Loss/classification_loss': 0.34979594,\n",
      " 'Loss/localization_loss': 0.229015,\n",
      " 'Loss/regularization_loss': 0.10602514,\n",
      " 'Loss/total_loss': 0.68483603,\n",
      " 'learning_rate': 0.1666635}\n",
      "INFO:tensorflow:Step 200 per-step time 2.114s\n",
      "I0625 13:32:15.217050 20840 model_lib_v2.py:705] Step 200 per-step time 2.114s\n",
      "INFO:tensorflow:{'Loss/classification_loss': 0.21517687,\n",
      " 'Loss/localization_loss': 0.10838428,\n",
      " 'Loss/regularization_loss': 0.108280495,\n",
      " 'Loss/total_loss': 0.43184164,\n",
      " 'learning_rate': 0.19999701}\n",
      "I0625 13:32:15.223034 20840 model_lib_v2.py:708] {'Loss/classification_loss': 0.21517687,\n",
      " 'Loss/localization_loss': 0.10838428,\n",
      " 'Loss/regularization_loss': 0.108280495,\n",
      " 'Loss/total_loss': 0.43184164,\n",
      " 'learning_rate': 0.19999701}\n",
      "INFO:tensorflow:Step 300 per-step time 2.354s\n",
      "I0625 13:36:10.550611 20840 model_lib_v2.py:705] Step 300 per-step time 2.354s\n",
      "INFO:tensorflow:{'Loss/classification_loss': 0.20565937,\n",
      " 'Loss/localization_loss': 0.093615934,\n",
      " 'Loss/regularization_loss': 0.108811244,\n",
      " 'Loss/total_loss': 0.40808654,\n",
      " 'learning_rate': 0.23333052}\n",
      "I0625 13:36:10.566233 20840 model_lib_v2.py:708] {'Loss/classification_loss': 0.20565937,\n",
      " 'Loss/localization_loss': 0.093615934,\n",
      " 'Loss/regularization_loss': 0.108811244,\n",
      " 'Loss/total_loss': 0.40808654,\n",
      " 'learning_rate': 0.23333052}\n",
      "INFO:tensorflow:Step 400 per-step time 2.379s\n",
      "I0625 13:40:08.533306 20840 model_lib_v2.py:705] Step 400 per-step time 2.379s\n",
      "INFO:tensorflow:{'Loss/classification_loss': 0.2438971,\n",
      " 'Loss/localization_loss': 0.11948996,\n",
      " 'Loss/regularization_loss': 0.109589934,\n",
      " 'Loss/total_loss': 0.47297698,\n",
      " 'learning_rate': 0.26666403}\n",
      "I0625 13:40:08.538293 20840 model_lib_v2.py:708] {'Loss/classification_loss': 0.2438971,\n",
      " 'Loss/localization_loss': 0.11948996,\n",
      " 'Loss/regularization_loss': 0.109589934,\n",
      " 'Loss/total_loss': 0.47297698,\n",
      " 'learning_rate': 0.26666403}\n",
      "INFO:tensorflow:Step 500 per-step time 2.628s\n",
      "I0625 13:44:31.306160 20840 model_lib_v2.py:705] Step 500 per-step time 2.628s\n",
      "INFO:tensorflow:{'Loss/classification_loss': 0.1381829,\n",
      " 'Loss/localization_loss': 0.040510945,\n",
      " 'Loss/regularization_loss': 0.10964859,\n",
      " 'Loss/total_loss': 0.28834245,\n",
      " 'learning_rate': 0.2999975}\n",
      "I0625 13:44:31.311146 20840 model_lib_v2.py:708] {'Loss/classification_loss': 0.1381829,\n",
      " 'Loss/localization_loss': 0.040510945,\n",
      " 'Loss/regularization_loss': 0.10964859,\n",
      " 'Loss/total_loss': 0.28834245,\n",
      " 'learning_rate': 0.2999975}\n",
      "INFO:tensorflow:Step 600 per-step time 2.412s\n",
      "I0625 13:48:32.465228 20840 model_lib_v2.py:705] Step 600 per-step time 2.412s\n",
      "INFO:tensorflow:{'Loss/classification_loss': 0.16914448,\n",
      " 'Loss/localization_loss': 0.06088965,\n",
      " 'Loss/regularization_loss': 0.11078051,\n",
      " 'Loss/total_loss': 0.34081465,\n",
      " 'learning_rate': 0.33333102}\n",
      "I0625 13:48:32.469217 20840 model_lib_v2.py:708] {'Loss/classification_loss': 0.16914448,\n",
      " 'Loss/localization_loss': 0.06088965,\n",
      " 'Loss/regularization_loss': 0.11078051,\n",
      " 'Loss/total_loss': 0.34081465,\n",
      " 'learning_rate': 0.33333102}\n",
      "INFO:tensorflow:Step 700 per-step time 2.492s\n",
      "I0625 13:52:41.631993 20840 model_lib_v2.py:705] Step 700 per-step time 2.492s\n",
      "INFO:tensorflow:{'Loss/classification_loss': 0.29597333,\n",
      " 'Loss/localization_loss': 0.1477486,\n",
      " 'Loss/regularization_loss': 0.111629464,\n",
      " 'Loss/total_loss': 0.5553514,\n",
      " 'learning_rate': 0.36666453}\n",
      "I0625 13:52:41.635982 20840 model_lib_v2.py:708] {'Loss/classification_loss': 0.29597333,\n",
      " 'Loss/localization_loss': 0.1477486,\n",
      " 'Loss/regularization_loss': 0.111629464,\n",
      " 'Loss/total_loss': 0.5553514,\n",
      " 'learning_rate': 0.36666453}\n",
      "INFO:tensorflow:Step 800 per-step time 2.500s\n",
      "I0625 13:56:51.616388 20840 model_lib_v2.py:705] Step 800 per-step time 2.500s\n",
      "INFO:tensorflow:{'Loss/classification_loss': 0.18471001,\n",
      " 'Loss/localization_loss': 0.048687387,\n",
      " 'Loss/regularization_loss': 0.111679494,\n",
      " 'Loss/total_loss': 0.34507692,\n",
      " 'learning_rate': 0.399998}\n",
      "I0625 13:56:51.620373 20840 model_lib_v2.py:708] {'Loss/classification_loss': 0.18471001,\n",
      " 'Loss/localization_loss': 0.048687387,\n",
      " 'Loss/regularization_loss': 0.111679494,\n",
      " 'Loss/total_loss': 0.34507692,\n",
      " 'learning_rate': 0.399998}\n",
      "INFO:tensorflow:Step 900 per-step time 2.384s\n",
      "I0625 14:00:50.031764 20840 model_lib_v2.py:705] Step 900 per-step time 2.384s\n",
      "INFO:tensorflow:{'Loss/classification_loss': 0.24072549,\n",
      " 'Loss/localization_loss': 0.1303394,\n",
      " 'Loss/regularization_loss': 0.1221128,\n",
      " 'Loss/total_loss': 0.4931777,\n",
      " 'learning_rate': 0.4333315}\n",
      "I0625 14:00:50.036712 20840 model_lib_v2.py:708] {'Loss/classification_loss': 0.24072549,\n",
      " 'Loss/localization_loss': 0.1303394,\n",
      " 'Loss/regularization_loss': 0.1221128,\n",
      " 'Loss/total_loss': 0.4931777,\n",
      " 'learning_rate': 0.4333315}\n",
      "INFO:tensorflow:Step 1000 per-step time 2.118s\n",
      "I0625 14:04:21.850336 20840 model_lib_v2.py:705] Step 1000 per-step time 2.118s\n",
      "INFO:tensorflow:{'Loss/classification_loss': 0.1104814,\n",
      " 'Loss/localization_loss': 0.10563895,\n",
      " 'Loss/regularization_loss': 0.13150816,\n",
      " 'Loss/total_loss': 0.3476285,\n",
      " 'learning_rate': 0.46666503}\n",
      "I0625 14:04:21.850336 20840 model_lib_v2.py:708] {'Loss/classification_loss': 0.1104814,\n",
      " 'Loss/localization_loss': 0.10563895,\n",
      " 'Loss/regularization_loss': 0.13150816,\n",
      " 'Loss/total_loss': 0.3476285,\n",
      " 'learning_rate': 0.46666503}\n"
     ]
    }
   ],
   "source": [
    "!{command}"
   ]
  },
  {
   "cell_type": "code",
   "execution_count": 11,
   "metadata": {},
   "outputs": [],
   "source": [
    "CHECKPOINT_DIRECTORY = os.path.join('data','models',MODEL_NAME,'checkpoint','ckpt-2')\n",
    "\n",
    "command = \"python {} --model_dir={} --pipeline_config_path={} --checkpoint_dir{}\".format(TRAINING_SCRIPT,MODEL_DIRECTORY,PATH_TO_CONFIG,CHECKPOINT_DIRECTORY)"
   ]
  },
  {
   "cell_type": "code",
   "execution_count": 21,
   "metadata": {},
   "outputs": [
    {
     "name": "stdout",
     "output_type": "stream",
     "text": [
      "^C\n"
     ]
    }
   ],
   "source": [
    "!{command}"
   ]
  },
  {
   "cell_type": "markdown",
   "metadata": {},
   "source": [
    "# Load Trained Model from Checkpoint"
   ]
  },
  {
   "cell_type": "code",
   "execution_count": 1,
   "metadata": {},
   "outputs": [
    {
     "name": "stdout",
     "output_type": "stream",
     "text": [
      "WARNING:tensorflow:Please fix your imports. Module tensorflow.python.training.tracking.base has been moved to tensorflow.python.trackable.base. The old module will be deleted in version 2.11.\n",
      "WARNING:tensorflow:Please fix your imports. Module tensorflow.python.training.saving.functional_saver has been moved to tensorflow.python.checkpoint.functional_saver. The old module will be deleted in version 2.11.\n",
      "WARNING:tensorflow:Please fix your imports. Module tensorflow.python.training.saving.checkpoint_options has been moved to tensorflow.python.checkpoint.checkpoint_options. The old module will be deleted in version 2.11.\n"
     ]
    }
   ],
   "source": [
    "import os\n",
    "import tensorflow as tf\n",
    "from object_detection.utils import label_map_util\n",
    "from object_detection.utils import visualization_utils as viz_utils\n",
    "from object_detection.builders import model_builder\n",
    "from object_detection.utils import config_util"
   ]
  },
  {
   "cell_type": "code",
   "execution_count": 10,
   "metadata": {},
   "outputs": [],
   "source": [
    "# Load pipeline config and build a detection model\n",
    "configs = config_util.get_configs_from_pipeline_file(PATH_TO_CONFIG)\n",
    "detection_model = model_builder.build(model_config=configs['model'], is_training=False)\n",
    "\n",
    "# Restore checkpoint\n",
    "ckpt = tf.compat.v2.train.Checkpoint(model=detection_model)\n",
    "ckpt.restore(os.path.join('data','workspace','checkpoint', 'ckpt-4')).expect_partial()\n",
    "\n",
    "@tf.function\n",
    "def detect_fn(image):\n",
    "    image, shapes = detection_model.preprocess(image)\n",
    "    prediction_dict = detection_model.predict(image, shapes)\n",
    "    detections = detection_model.postprocess(prediction_dict, shapes)\n",
    "    return detections"
   ]
  },
  {
   "cell_type": "markdown",
   "metadata": {},
   "source": [
    "# Detect from Image"
   ]
  },
  {
   "cell_type": "code",
   "execution_count": 11,
   "metadata": {},
   "outputs": [],
   "source": [
    "import cv2 \n",
    "import numpy as np\n",
    "from matplotlib import pyplot as plt\n",
    "%matplotlib inline"
   ]
  },
  {
   "cell_type": "code",
   "execution_count": 12,
   "metadata": {},
   "outputs": [],
   "source": [
    "category_index = label_map_util.create_category_index_from_labelmap(PATH_TO_LABEL_MAP)"
   ]
  },
  {
   "cell_type": "code",
   "execution_count": 14,
   "metadata": {},
   "outputs": [],
   "source": [
    "IMAGE_PATH = os.path.join('data','workspace','images','collectedimages','train','Luong3.jpg')"
   ]
  },
  {
   "cell_type": "code",
   "execution_count": 15,
   "metadata": {},
   "outputs": [
    {
     "name": "stdout",
     "output_type": "stream",
     "text": [
      "INFO:tensorflow:depth of additional conv before box predictor: 0\n",
      "INFO:tensorflow:depth of additional conv before box predictor: 0\n",
      "INFO:tensorflow:depth of additional conv before box predictor: 0\n",
      "INFO:tensorflow:depth of additional conv before box predictor: 0\n",
      "INFO:tensorflow:depth of additional conv before box predictor: 0\n",
      "INFO:tensorflow:depth of additional conv before box predictor: 0\n"
     ]
    },
    {
     "data": {
      "image/png": "[encoded data removed]",
      "text/plain": [
       "<Figure size 432x288 with 1 Axes>"
      ]
     },
     "metadata": {
      "needs_background": "light"
     },
     "output_type": "display_data"
    }
   ],
   "source": [
    "img = cv2.imread(IMAGE_PATH)\n",
    "image_np = np.array(img)\n",
    "\n",
    "input_tensor = tf.convert_to_tensor(np.expand_dims(image_np, 0), dtype=tf.float32)\n",
    "detections = detect_fn(input_tensor)\n",
    "\n",
    "num_detections = int(detections.pop('num_detections'))\n",
    "detections = {key: value[0, :num_detections].numpy()\n",
    "              for key, value in detections.items()}\n",
    "detections['num_detections'] = num_detections\n",
    "\n",
    "# detection_classes should be ints.\n",
    "detections['detection_classes'] = detections['detection_classes'].astype(np.int64)\n",
    "\n",
    "label_id_offset = 1\n",
    "image_np_with_detections = image_np.copy()\n",
    "\n",
    "viz_utils.visualize_boxes_and_labels_on_image_array(\n",
    "            image_np_with_detections,\n",
    "            detections['detection_boxes'],\n",
    "            detections['detection_classes']+label_id_offset,\n",
    "            detections['detection_scores'],\n",
    "            category_index,\n",
    "            use_normalized_coordinates=True,\n",
    "            max_boxes_to_draw=5,\n",
    "            min_score_thresh=.8,\n",
    "            agnostic_mode=False)\n",
    "\n",
    "plt.imshow(cv2.cvtColor(image_np_with_detections, cv2.COLOR_BGR2RGB))\n",
    "plt.show()"
   ]
  },
  {
   "cell_type": "code",
   "execution_count": 77,
   "metadata": {},
   "outputs": [],
   "source": [
    "import os\n",
    "import tensorflow as tf\n",
    "from object_detection.utils import label_map_util\n",
    "from object_detection.utils import visualization_utils as viz_utils\n",
    "from object_detection.builders import model_builder\n",
    "from object_detection.utils import config_util"
   ]
  },
  {
   "cell_type": "code",
   "execution_count": 84,
   "metadata": {},
   "outputs": [],
   "source": [
    "import numpy as np\n",
    "import cv2\n",
    "cap = cv2.VideoCapture(0)\n",
    "width = int(cap.get(cv2.CAP_PROP_FRAME_WIDTH))\n",
    "height = int(cap.get(cv2.CAP_PROP_FRAME_HEIGHT))\n",
    "\n",
    "while cap.isOpened(): \n",
    "    ret, frame = cap.read()\n",
    "    image_np = np.array(frame)\n",
    "    \n",
    "    input_tensor = tf.convert_to_tensor(np.expand_dims(image_np, 0), dtype=tf.float32)\n",
    "    detections = detect_fn(input_tensor)\n",
    "    \n",
    "    num_detections = int(detections.pop('num_detections'))\n",
    "    detections = {key: value[0, :num_detections].numpy()\n",
    "                  for key, value in detections.items()}\n",
    "    detections['num_detections'] = num_detections\n",
    "\n",
    "    # detection_classes should be ints.\n",
    "    detections['detection_classes'] = detections['detection_classes'].astype(np.int64)\n",
    "\n",
    "    label_id_offset = 1\n",
    "    image_np_with_detections = image_np.copy()\n",
    "\n",
    "    viz_utils.visualize_boxes_and_labels_on_image_array(\n",
    "                image_np_with_detections,\n",
    "                detections['detection_boxes'],\n",
    "                detections['detection_classes']+label_id_offset,\n",
    "                detections['detection_scores'],\n",
    "                category_index,\n",
    "                use_normalized_coordinates=True,\n",
    "                max_boxes_to_draw=5,\n",
    "                min_score_thresh=.8,\n",
    "                agnostic_mode=False)\n",
    "\n",
    "    cv2.imshow('object detection',  cv2.resize(image_np_with_detections, (800, 600)))\n",
    "    \n",
    "    if cv2.waitKey(10) & 0xFF == ord('q'):\n",
    "        cap.release()\n",
    "        cv2.destroyAllWindows()\n",
    "        break"
   ]
  },
  {
   "cell_type": "code",
   "execution_count": null,
   "metadata": {},
   "outputs": [],
   "source": []
  }
 ],
 "metadata": {
  "kernelspec": {
   "display_name": "Python 3.10.5 ('tfod': venv)",
   "language": "python",
   "name": "python3"
  },
  "language_info": {
   "codemirror_mode": {
    "name": "ipython",
    "version": 3
   },
   "file_extension": ".py",
   "mimetype": "text/x-python",
   "name": "python",
   "nbconvert_exporter": "python",
   "pygments_lexer": "ipython3",
   "version": "3.10.5"
  },
  "orig_nbformat": 4,
  "vscode": {
   "interpreter": {
    "hash": "f7af7856867983eb9b038b131916fd69dc8486055dc46c65a184fe94e4c812a8"
   }
  }
 },
 "nbformat": 4,
 "nbformat_minor": 2
}
